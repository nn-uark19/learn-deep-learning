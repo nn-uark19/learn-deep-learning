{
 "cells": [
  {
   "cell_type": "markdown",
   "metadata": {},
   "source": [
    "# Content\n",
    "\n",
    "Crash course: https://developers.google.com/machine-learning/crash-course/\n",
    "        \n",
    "\n",
    "(source:  https://www.tensorflow.org/tutorials/keras/)"
   ]
  },
  {
   "cell_type": "markdown",
   "metadata": {},
   "source": [
    "# Summary\n",
    "\n",
    "0. Intro to ML\n",
    "\n",
    "\n",
    "1. Framing\n",
    "    - Labels\n",
    "    - Features\n",
    "    - Examples\n",
    "    - Models\n",
    "    - Regression vs. classification\n",
    "    \n",
    "    \n",
    "2. Descending into ML\n",
    "    - Linear Regression\n",
    "    - Training and Loss\n",
    "        - Training\n",
    "        - Mean square error (MSE)\n"
   ]
  },
  {
   "cell_type": "markdown",
   "metadata": {},
   "source": [
    "3. Reducing Loss\n",
    "    - An Iterative Approach\n",
    "    - Gradient Descent: pick random value for w, then calculates the gradient of the loss curve at the starting point\n",
    "    - Learning Rate (also sometimes called step size)\n",
    "    - Optimizing Learning Rate\n",
    "    - Stochastic Gradient Descent\n",
    "        - batch: is the total number of examples you use to calculate the gradient in a single iteration\n",
    "        - batchsize\n",
    "        - Stochastic gradient descent (SGD) takes this idea to the extreme--it uses only a single example (a batch size of 1) per iteration\n",
    "        - \n",
    "\n",
    "4. First Steps with TF\n",
    "    - Figure 1. TensorFlow toolkit hierarchy.\n",
    "    - tf.estimator API"
   ]
  },
  {
   "cell_type": "code",
   "execution_count": null,
   "metadata": {},
   "outputs": [],
   "source": []
  }
 ],
 "metadata": {
  "kernelspec": {
   "display_name": "Python 3",
   "language": "python",
   "name": "python3"
  },
  "language_info": {
   "codemirror_mode": {
    "name": "ipython",
    "version": 3
   },
   "file_extension": ".py",
   "mimetype": "text/x-python",
   "name": "python",
   "nbconvert_exporter": "python",
   "pygments_lexer": "ipython3",
   "version": "3.6.7"
  }
 },
 "nbformat": 4,
 "nbformat_minor": 2
}
