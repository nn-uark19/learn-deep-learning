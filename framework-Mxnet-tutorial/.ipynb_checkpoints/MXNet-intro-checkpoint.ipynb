{
 "cells": [
  {
   "cell_type": "markdown",
   "metadata": {},
   "source": [
    "# Amazon's Deep Learning Library (MXNet)\n",
    "\n",
    "\n",
    "![alt text](https://image.slidesharecdn.com/mxnet-170323180455/95/a-deeper-dive-into-apache-mxnet-march-2017-aws-online-tech-talks-21-638.jpg?cb=1490292333 \"Logo Title Text 1\")\n",
    "\n",
    "\n",
    "## Features\n",
    "\n",
    "\n",
    "![alt text](https://pat-7ekbwyq9jmy.netdna-ssl.com/wp-content/uploads/2017/06/Mxnet-1000x380.jpg \"Logo Title Text 1\")\n",
    "\n",
    "## Tensorflow vs MXNet? \n",
    "\n",
    "![alt text](http://www.svds.com/wp-content/uploads/2017/02/Deep_learning_ratings_final-1024x563.png \"Logo Title Text 1\")\n",
    "\n",
    "![alt text](https://media.amazonwebservices.com/blog/2017/AI%20MxNet%20Blog-01-Header%20Pic.png \"Logo Title Text 1\")\n",
    "\n",
    "![alt text](https://2.bp.blogspot.com/-Lzy5Vi7Hj0U/VstoM62XkFI/AAAAAAABTLg/AWgqwtm4BbI/s1600/Screen%2BShot%2B2016-02-22%2Bat%2B9.56.26%2BPM.png \"Logo Title Text 1\")\n",
    "\n",
    "## Imperative API\n",
    "\n",
    "![alt text](https://image.slidesharecdn.com/mxnet-170323180455/95/a-deeper-dive-into-apache-mxnet-march-2017-aws-online-tech-talks-17-638.jpg?cb=1490292333 \"Logo Title Text 1\")\n",
    "\n",
    "![alt text](https://image.slidesharecdn.com/mxnet-170323180455/95/a-deeper-dive-into-apache-mxnet-march-2017-aws-online-tech-talks-18-638.jpg?cb=1490292333 \"Logo Title Text 1\")\n",
    "\n",
    "![alt text](https://image.slidesharecdn.com/mxnet-170323180455/95/a-deeper-dive-into-apache-mxnet-march-2017-aws-online-tech-talks-19-638.jpg?cb=1490292333 \"Logo Title Text 1\")"
   ]
  },
  {
   "cell_type": "markdown",
   "metadata": {},
   "source": [
    "## Installation\n",
    "\n",
    "sudo -H pip install mxnet  --upgrade\n"
   ]
  },
  {
   "cell_type": "markdown",
   "metadata": {},
   "source": [
    "## The NDArray API\n",
    "\n",
    "- The NDArray is the core data sturcture for all mathmatical computations. \n",
    "- AN NDArray represents a multidimensional fix-sized homogeneous array, just like numpy.ndarray. \n",
    "- it enables imperative computation.\n",
    "- it executes code lazily, allowing it to automatically parallelize multiple operations across the available hardware.\n",
    "- training and running neural networks involve a lot of math operations. Multi-dimensional arrays is how we’ll store our data.\n",
    "\n",
    "![alt text](https://cdn-images-1.medium.com/max/1600/1*D6pp5hTfUl8FmzYwJ3N8LQ.png \"Logo Title Text 1\")\n",
    "\n",
    "is\n",
    "\n",
    "![alt text](https://cdn-images-1.medium.com/max/1600/1*Ct7GN4a5gqONNUFV_qMu_A.png \"Logo Title Text 1\")"
   ]
  },
  {
   "cell_type": "code",
   "execution_count": 1,
   "metadata": {},
   "outputs": [
    {
     "ename": "NameError",
     "evalue": "name 'mx' is not defined",
     "output_type": "error",
     "traceback": [
      "\u001b[0;31m---------------------------------------------------------------------------\u001b[0m",
      "\u001b[0;31mNameError\u001b[0m                                 Traceback (most recent call last)",
      "\u001b[0;32m<ipython-input-1-a1df7892737a>\u001b[0m in \u001b[0;36m<module>\u001b[0;34m()\u001b[0m\n\u001b[0;32m----> 1\u001b[0;31m \u001b[0ma\u001b[0m \u001b[0;34m=\u001b[0m \u001b[0mmx\u001b[0m\u001b[0;34m.\u001b[0m\u001b[0mnd\u001b[0m\u001b[0;34m.\u001b[0m\u001b[0marray\u001b[0m\u001b[0;34m(\u001b[0m\u001b[0;34m[\u001b[0m\u001b[0;34m[\u001b[0m\u001b[0;36m1\u001b[0m\u001b[0;34m,\u001b[0m\u001b[0;36m2\u001b[0m\u001b[0;34m,\u001b[0m\u001b[0;36m3\u001b[0m\u001b[0;34m]\u001b[0m\u001b[0;34m,\u001b[0m \u001b[0;34m[\u001b[0m\u001b[0;36m4\u001b[0m\u001b[0;34m,\u001b[0m\u001b[0;36m5\u001b[0m\u001b[0;34m,\u001b[0m\u001b[0;36m6\u001b[0m\u001b[0;34m]\u001b[0m\u001b[0;34m]\u001b[0m\u001b[0;34m)\u001b[0m\u001b[0;34m\u001b[0m\u001b[0m\n\u001b[0m",
      "\u001b[0;31mNameError\u001b[0m: name 'mx' is not defined"
     ]
    }
   ],
   "source": [
    "import mxnet \n",
    "a = mx.nd.array([[1,2,3], [4,5,6]])"
   ]
  },
  {
   "cell_type": "code",
   "execution_count": 40,
   "metadata": {},
   "outputs": [
    {
     "data": {
      "text/plain": [
       "6"
      ]
     },
     "execution_count": 40,
     "metadata": {},
     "output_type": "execute_result"
    }
   ],
   "source": [
    "a.size"
   ]
  },
  {
   "cell_type": "code",
   "execution_count": 41,
   "metadata": {},
   "outputs": [
    {
     "data": {
      "text/plain": [
       "(2, 3)"
      ]
     },
     "execution_count": 41,
     "metadata": {},
     "output_type": "execute_result"
    }
   ],
   "source": [
    "a.shape"
   ]
  },
  {
   "cell_type": "code",
   "execution_count": null,
   "metadata": {},
   "outputs": [],
   "source": []
  },
  {
   "cell_type": "markdown",
   "metadata": {},
   "source": [
    "By default, an NDArray holds 32-bit floats, but we can customize that."
   ]
  },
  {
   "cell_type": "code",
   "execution_count": 42,
   "metadata": {},
   "outputs": [
    {
     "data": {
      "text/plain": [
       "numpy.int32"
      ]
     },
     "execution_count": 42,
     "metadata": {},
     "output_type": "execute_result"
    }
   ],
   "source": [
    "import numpy as np\n",
    "b = mx.nd.array([[1,2,3], [4,5,6]], dtype=np.int32)\n",
    "b.dtype"
   ]
  },
  {
   "cell_type": "markdown",
   "metadata": {},
   "source": [
    "Printing an NDArray is as easy as this."
   ]
  },
  {
   "cell_type": "code",
   "execution_count": 43,
   "metadata": {},
   "outputs": [
    {
     "data": {
      "text/plain": [
       "array([[1, 2, 3],\n",
       "       [4, 5, 6]], dtype=int32)"
      ]
     },
     "execution_count": 43,
     "metadata": {},
     "output_type": "execute_result"
    }
   ],
   "source": [
    "b.asnumpy()"
   ]
  },
  {
   "cell_type": "markdown",
   "metadata": {},
   "source": [
    "All the math operators you’d expect are available. Let’s try an element-wise matrix multiplication."
   ]
  },
  {
   "cell_type": "code",
   "execution_count": 44,
   "metadata": {},
   "outputs": [
    {
     "data": {
      "text/plain": [
       "array([[  1.,   4.,   9.],\n",
       "       [ 16.,  25.,  36.]], dtype=float32)"
      ]
     },
     "execution_count": 44,
     "metadata": {},
     "output_type": "execute_result"
    }
   ],
   "source": [
    "a = mx.nd.array([[1,2,3], [4,5,6]])\n",
    "b = a*a\n",
    "b.asnumpy()"
   ]
  },
  {
   "cell_type": "markdown",
   "metadata": {},
   "source": [
    "How about an proper matrix multiplication (aka ‘dot product’)?"
   ]
  },
  {
   "cell_type": "code",
   "execution_count": 46,
   "metadata": {},
   "outputs": [
    {
     "data": {
      "text/plain": [
       "array([[ 14.,  32.],\n",
       "       [ 32.,  77.]], dtype=float32)"
      ]
     },
     "execution_count": 46,
     "metadata": {},
     "output_type": "execute_result"
    }
   ],
   "source": [
    "a = mx.nd.array([[1,2,3], [4,5,6]])\n",
    "b = a.T\n",
    "\n",
    "c = mx.nd.dot(a,b)\n",
    "c.asnumpy()"
   ]
  },
  {
   "cell_type": "markdown",
   "metadata": {},
   "source": [
    "Let’s try something a little more complicated:\n",
    "\n",
    "- initialize a 1000 x 1000 matrix with a uniform distribution, stored on CPU#0 \n",
    "- initialize another 1000 x 1000 matrix with a normal distribution (mean of 1 and standard deviation of 2), also on CPU#0."
   ]
  },
  {
   "cell_type": "code",
   "execution_count": 47,
   "metadata": {},
   "outputs": [],
   "source": [
    "c = mx.nd.uniform(low=0, high=1, shape=(1000,1000), ctx=\"cpu(0)\")\n",
    "d = mx.nd.normal(loc=1, scale=2, shape=(1000,1000), ctx=\"cpu(0)\")\n",
    "e = mx.nd.dot(c,d)"
   ]
  },
  {
   "cell_type": "markdown",
   "metadata": {},
   "source": [
    "# The Symbol API \n",
    "\n",
    "![alt text](https://cdn-images-1.medium.com/max/1600/1*h0M4n_9FPyriCwT-LjE0HQ.png \"Logo Title Text 1\")\n",
    "\n",
    "- What A,B,C and D are is irrelevant at this point. They are symbols.\n",
    "- No matter what the inputs are (integers, vectors, matrices, etc.), this graph tells us how to compute the output value — provided that operations “+” and “*” are defined.\n",
    "- This graph also tells us that (A*B) and (C*D) can be computed in parallel."
   ]
  },
  {
   "cell_type": "code",
   "execution_count": 52,
   "metadata": {},
   "outputs": [],
   "source": [
    "a = mx.symbol.Variable('A')\n",
    "b = mx.symbol.Variable('B')\n",
    "c = mx.symbol.Variable('C')\n",
    "d = mx.symbol.Variable('D')\n",
    "e = (a*b)+(c*d)"
   ]
  },
  {
   "cell_type": "markdown",
   "metadata": {},
   "source": [
    "We can assign a result to e without knowing what a, b, c and d are. Let’s keep going."
   ]
  },
  {
   "cell_type": "code",
   "execution_count": 53,
   "metadata": {},
   "outputs": [
    {
     "data": {
      "text/plain": [
       "(<Symbol A>, <Symbol B>, <Symbol C>, <Symbol D>)"
      ]
     },
     "execution_count": 53,
     "metadata": {},
     "output_type": "execute_result"
    }
   ],
   "source": [
    "(a,b,c,d)"
   ]
  },
  {
   "cell_type": "code",
   "execution_count": 54,
   "metadata": {},
   "outputs": [
    {
     "data": {
      "text/plain": [
       "<Symbol _plus2>"
      ]
     },
     "execution_count": 54,
     "metadata": {},
     "output_type": "execute_result"
    }
   ],
   "source": [
    "e"
   ]
  },
  {
   "cell_type": "code",
   "execution_count": 55,
   "metadata": {},
   "outputs": [
    {
     "data": {
      "text/plain": [
       "mxnet.symbol.symbol.Symbol"
      ]
     },
     "execution_count": 55,
     "metadata": {},
     "output_type": "execute_result"
    }
   ],
   "source": [
    "type(e)"
   ]
  },
  {
   "cell_type": "markdown",
   "metadata": {},
   "source": [
    "a, b, c and d are symbols which we explicitly declared. e is different: it is a symbol as well, but one that is the result of a ‘+’ operation. Let’s try to learn more about e."
   ]
  },
  {
   "cell_type": "code",
   "execution_count": 56,
   "metadata": {},
   "outputs": [
    {
     "data": {
      "text/plain": [
       "['A', 'B', 'C', 'D']"
      ]
     },
     "execution_count": 56,
     "metadata": {},
     "output_type": "execute_result"
    }
   ],
   "source": [
    "e.list_arguments()"
   ]
  },
  {
   "cell_type": "code",
   "execution_count": 57,
   "metadata": {},
   "outputs": [
    {
     "data": {
      "text/plain": [
       "['_plus2_output']"
      ]
     },
     "execution_count": 57,
     "metadata": {},
     "output_type": "execute_result"
    }
   ],
   "source": [
    "e.list_outputs()"
   ]
  },
  {
   "cell_type": "code",
   "execution_count": null,
   "metadata": {},
   "outputs": [],
   "source": []
  },
  {
   "cell_type": "markdown",
   "metadata": {},
   "source": [
    "What this tells us is that:\n",
    "\n",
    "- e depends on variables a, b, c and d,\n",
    "- the operation that computes e is a sum,\n",
    "- e is indeed (a*b)+(c*d).\n",
    "- Of course, we can do much more with symbols than ‘+’ and ‘*’. \n",
    "\n",
    "Just like for NDArrays, a lot of operations are defined (math, formatting, etc.)."
   ]
  },
  {
   "cell_type": "markdown",
   "metadata": {},
   "source": [
    "- Applying computing steps defined with Symbols to data stored in NDArrays requires an operation called ‘binding’,\n",
    "- Lets set ‘A’ to 1, ‘B’ to 2, C to ‘3’ and ‘D’ to 4, which is why I’m creating 4 NDArrays containing a single integer."
   ]
  },
  {
   "cell_type": "code",
   "execution_count": 20,
   "metadata": {},
   "outputs": [],
   "source": [
    "import numpy as np\n",
    "a_data = mx.nd.array([1], dtype=np.int32)\n",
    "b_data = mx.nd.array([2], dtype=np.int32)\n",
    "c_data = mx.nd.array([3], dtype=np.int32)\n",
    "d_data = mx.nd.array([4], dtype=np.int32)"
   ]
  },
  {
   "cell_type": "markdown",
   "metadata": {},
   "source": [
    "- Next, I’m binding each NDArray to its corresponding Symbol. "
   ]
  },
  {
   "cell_type": "code",
   "execution_count": 59,
   "metadata": {},
   "outputs": [],
   "source": [
    "executor=e.bind(mx.cpu(), {'A':a_data, 'B':b_data, 'C':c_data, 'D':d_data})"
   ]
  },
  {
   "cell_type": "markdown",
   "metadata": {},
   "source": [
    "- it’s time to let our input data flow through the graph in order to get a result: \n",
    "- the forward() function will get things going. \n",
    "- It returns an array of NDArrays, because a graph could have multiple outputs. \n",
    "- Here, we have a single output, holding the value ‘14’ — which is reassuringly equal to (1*2)+(3*4)."
   ]
  },
  {
   "cell_type": "code",
   "execution_count": 61,
   "metadata": {},
   "outputs": [
    {
     "data": {
      "text/plain": [
       "[\n",
       " [14]\n",
       " <NDArray 1 @cpu(0)>]"
      ]
     },
     "execution_count": 61,
     "metadata": {},
     "output_type": "execute_result"
    }
   ],
   "source": [
    "executor\n",
    "e_data = executor.forward()\n",
    "e_data"
   ]
  },
  {
   "cell_type": "markdown",
   "metadata": {},
   "source": [
    "This clean separation between data and computation aims at giving us the best of both worlds"
   ]
  },
  {
   "cell_type": "markdown",
   "metadata": {},
   "source": [
    "## The Module API - Building and training neural networks\n"
   ]
  },
  {
   "cell_type": "markdown",
   "metadata": {},
   "source": [
    "Our (imaginary) data set is composed of 1000 data samples\n",
    "\n",
    "- Each sample has 100 features.\n",
    "- A feature is represented by a float value between 0 and 1.\n",
    "- Samples are split in 10 categories. The purpose of the network will be to predict the correct category for a given sample.\n",
    "- We’ll use 800 samples for training and 200 samples for validation.\n",
    "- We’ll use a batch size of 10 for training and validation"
   ]
  },
  {
   "cell_type": "code",
   "execution_count": null,
   "metadata": {},
   "outputs": [],
   "source": [
    "import mxnet as mx\n",
    "import numpy as np\n",
    "import logging\n",
    "\n",
    "\n",
    "logging.basicConfig(level=logging.INFO)\n",
    "sample_count = 1000\n",
    "train_count = 800\n",
    "valid_count = sample_count - train_count\n",
    "feature_count = 100\n",
    "category_count = 10\n",
    "batch=10"
   ]
  },
  {
   "cell_type": "code",
   "execution_count": 67,
   "metadata": {},
   "outputs": [
    {
     "data": {
      "text/plain": [
       "(1000, 100)"
      ]
     },
     "execution_count": 67,
     "metadata": {},
     "output_type": "execute_result"
    }
   ],
   "source": [
    "#Let’s use a uniform distribution to generate the 1000 samples. \n",
    "#They are stored in an NDArray named ‘X’: 1000 lines, 100 columns.\n",
    "X = mx.nd.uniform(low=0, high=1, shape=(sample_count, feature_count))\n",
    "X.shape"
   ]
  },
  {
   "cell_type": "code",
   "execution_count": 68,
   "metadata": {},
   "outputs": [],
   "source": [
    "#The categories for these 1000 samples are represented as \n",
    "#integers in the 0–9 range. They are randomly generated and stored in an NDArray named ‘Y’.\n",
    "Y = mx.nd.empty((sample_count,))\n",
    "for i in range(0,sample_count-1):\n",
    "  Y[i] = np.random.randint(0,category_count)\n"
   ]
  },
  {
   "cell_type": "code",
   "execution_count": 69,
   "metadata": {},
   "outputs": [],
   "source": [
    "#split the data\n",
    "X_train = mx.nd.crop(X, begin=(0,0), end=(train_count,feature_count-1))\n",
    "X_valid = mx.nd.crop(X, begin=(train_count,0), end=(sample_count,feature_count-1))\n",
    "Y_train = Y[0:train_count]\n",
    "Y_valid = Y[train_count:sample_count]"
   ]
  },
  {
   "cell_type": "code",
   "execution_count": 70,
   "metadata": {},
   "outputs": [],
   "source": [
    "#build the network\n",
    "data = mx.sym.Variable('data')\n",
    "fc1 = mx.sym.FullyConnected(data, name='fc1', num_hidden=64)\n",
    "relu1 = mx.sym.Activation(fc1, name='relu1', act_type=\"relu\")\n",
    "fc2 = mx.sym.FullyConnected(relu1, name='fc2', num_hidden=category_count)\n",
    "out = mx.sym.SoftmaxOutput(fc2, name='softmax')\n",
    "mod = mx.mod.Module(out)"
   ]
  },
  {
   "cell_type": "code",
   "execution_count": 73,
   "metadata": {},
   "outputs": [
    {
     "name": "stderr",
     "output_type": "stream",
     "text": [
      "/Library/Frameworks/Python.framework/Versions/3.6/lib/python3.6/site-packages/ipykernel_launcher.py:2: UserWarning: Parameters already initialized and force_init=False. init_params call ignored.\n",
      "  \n",
      "/Library/Frameworks/Python.framework/Versions/3.6/lib/python3.6/site-packages/ipykernel_launcher.py:4: UserWarning: Parameters already initialized and force_init=False. init_params call ignored.\n",
      "  after removing the cwd from sys.path.\n",
      "WARNING:root:optimizer already initialized, ignoring...\n"
     ]
    }
   ],
   "source": [
    "train_iter = mx.io.NDArrayIter(data=X_train,label=Y_train,batch_size=batch)\n",
    "mod.init_params()\n",
    "# Much better\n",
    "mod.init_params(initializer=mx.init.Xavier(magnitude=2.))\n",
    "mod.init_optimizer(optimizer='sgd', optimizer_params=(('learning_rate', 0.1), ))\n"
   ]
  },
  {
   "cell_type": "code",
   "execution_count": null,
   "metadata": {},
   "outputs": [],
   "source": []
  }
 ],
 "metadata": {
  "kernelspec": {
   "display_name": "Python 3",
   "language": "python",
   "name": "python3"
  },
  "language_info": {
   "codemirror_mode": {
    "name": "ipython",
    "version": 3
   },
   "file_extension": ".py",
   "mimetype": "text/x-python",
   "name": "python",
   "nbconvert_exporter": "python",
   "pygments_lexer": "ipython3",
   "version": "3.6.5"
  }
 },
 "nbformat": 4,
 "nbformat_minor": 2
}
